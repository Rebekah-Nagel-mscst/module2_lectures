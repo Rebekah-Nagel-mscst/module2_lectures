{
  "nbformat": 4,
  "nbformat_minor": 0,
  "metadata": {
    "anaconda-cloud": {},
    "kernelspec": {
      "display_name": "Python 3",
      "language": "python",
      "name": "python3"
    },
    "language_info": {
      "codemirror_mode": {
        "name": "ipython",
        "version": 3
      },
      "file_extension": ".py",
      "mimetype": "text/x-python",
      "name": "python",
      "nbconvert_exporter": "python",
      "pygments_lexer": "ipython3",
      "version": "3.7.2"
    },
    "colab": {
      "name": "2_2_list_comprehensions.ipynb",
      "provenance": [],
      "include_colab_link": true
    }
  },
  "cells": [
    {
      "cell_type": "markdown",
      "metadata": {
        "id": "view-in-github",
        "colab_type": "text"
      },
      "source": [
        "<a href=\"https://colab.research.google.com/github/Rebekah-Nagel-mscst/module2_lectures/blob/master/2_2_list_comprehensions.ipynb\" target=\"_parent\"><img src=\"https://colab.research.google.com/assets/colab-badge.svg\" alt=\"Open In Colab\"/></a>"
      ]
    },
    {
      "cell_type": "markdown",
      "metadata": {
        "id": "IrxI3_lc9crK",
        "colab_type": "text"
      },
      "source": [
        "# List Comprehensions\n",
        "\n",
        "## Objectives\n",
        "\n",
        "1. Understand the list comprehension syntax\n",
        "2. Demonstrate list processing with comprehensions\n",
        "3. Use list comprehensions in probability simulations"
      ]
    },
    {
      "cell_type": "markdown",
      "metadata": {
        "collapsed": true,
        "id": "qlo2rkWq9crM",
        "colab_type": "text"
      },
      "source": [
        "## List Comprehension\n",
        "\n",
        "* Expression for constructing list\n",
        "* Returns a new list\n",
        "* Reads like math\n",
        "    * Set builder notation"
      ]
    },
    {
      "cell_type": "code",
      "metadata": {
        "id": "XWtAO4w09crO",
        "colab_type": "code",
        "colab": {},
        "outputId": "1e175ad6-dbce-4bef-d234-88192123d4f0"
      },
      "source": [
        "mylist = [1,2,3,4,5]\n",
        "yourlist = [item ** 2 for item in mylist]\n",
        "yourlist"
      ],
      "execution_count": null,
      "outputs": [
        {
          "output_type": "execute_result",
          "data": {
            "text/plain": [
              "[1, 4, 9, 16, 25]"
            ]
          },
          "metadata": {
            "tags": []
          },
          "execution_count": 1
        }
      ]
    },
    {
      "cell_type": "markdown",
      "metadata": {
        "id": "EwX_Whfe9crT",
        "colab_type": "text"
      },
      "source": [
        "## Building a Comprehension\n",
        "\n",
        "\n",
        "    \n",
        "<img src=\"https://github.com/wsu-stat489/USCOTS2017_workshop/blob/master/img/listComprehensions.gif?raw=true\">"
      ]
    },
    {
      "cell_type": "markdown",
      "metadata": {
        "id": "OsoIab4b9crU",
        "colab_type": "text"
      },
      "source": [
        "## Building a List Comprehension\n",
        "\n",
        "1. Begin with an empty shell\n",
        "\n",
        "2. Insert the input sequence\n",
        "\n",
        "3. Give the elements a name"
      ]
    },
    {
      "cell_type": "markdown",
      "metadata": {
        "id": "CjdY4Aue9crW",
        "colab_type": "text"
      },
      "source": [
        "`L = [   for    in       ]`"
      ]
    },
    {
      "cell_type": "markdown",
      "metadata": {
        "id": "mhek_0W-9crX",
        "colab_type": "text"
      },
      "source": [
        "`L = [    for     in range(10)]`"
      ]
    },
    {
      "cell_type": "markdown",
      "metadata": {
        "id": "S30s5oT69crY",
        "colab_type": "text"
      },
      "source": [
        "`L = [    for num in range(10)]`"
      ]
    },
    {
      "cell_type": "code",
      "metadata": {
        "id": "qw8Rhao09crY",
        "colab_type": "code",
        "colab": {
          "base_uri": "https://localhost:8080/",
          "height": 34
        },
        "outputId": "c59f4be9-89a4-44de-88c9-e09053ab2ad4"
      },
      "source": [
        "L = [num + 2 for num in range(10)]\n",
        "L"
      ],
      "execution_count": 7,
      "outputs": [
        {
          "output_type": "execute_result",
          "data": {
            "text/plain": [
              "[2, 3, 4, 5, 6, 7, 8, 9, 10, 11]"
            ]
          },
          "metadata": {
            "tags": []
          },
          "execution_count": 7
        }
      ]
    },
    {
      "cell_type": "markdown",
      "metadata": {
        "id": "SBBTvEbL9cre",
        "colab_type": "text"
      },
      "source": [
        "## Adding an optional filter\n",
        "\n",
        "* The if portion is optional\n",
        "* Syntax: `if boolean_cond`\n",
        "    * After input sequence\n",
        "* Only keeps value for which the condition is `True`"
      ]
    },
    {
      "cell_type": "code",
      "metadata": {
        "id": "mFZfn2Tt9crg",
        "colab_type": "code",
        "colab": {},
        "outputId": "2d18d8f1-4233-4808-c276-eb80e71b531b"
      },
      "source": [
        "L = [num + 2 for num in range(10) if num % 2 == 1]\n",
        "L"
      ],
      "execution_count": null,
      "outputs": [
        {
          "output_type": "execute_result",
          "data": {
            "text/plain": [
              "[3, 5, 7, 9, 11]"
            ]
          },
          "metadata": {
            "tags": []
          },
          "execution_count": 3
        }
      ]
    },
    {
      "cell_type": "markdown",
      "metadata": {
        "id": "DYRt4aS69crr",
        "colab_type": "text"
      },
      "source": [
        "### <font color='red'> Exercise 1 </font>\n",
        "\n",
        "Write a list comprehension that contains the squares for the numbers between 0 and 20 (inclusive).  **Hint:** Start with a `range`"
      ]
    },
    {
      "cell_type": "code",
      "metadata": {
        "id": "OxW7T2kq9cry",
        "colab_type": "code",
        "colab": {
          "base_uri": "https://localhost:8080/",
          "height": 374
        },
        "outputId": "65d1d4e0-017c-42cf-d952-88218ade8750"
      },
      "source": [
        "L = [sqr**0.5 for sqr in range(21)]\n",
        "L\n"
      ],
      "execution_count": 9,
      "outputs": [
        {
          "output_type": "execute_result",
          "data": {
            "text/plain": [
              "[0.0,\n",
              " 1.0,\n",
              " 1.4142135623730951,\n",
              " 1.7320508075688772,\n",
              " 2.0,\n",
              " 2.23606797749979,\n",
              " 2.449489742783178,\n",
              " 2.6457513110645907,\n",
              " 2.8284271247461903,\n",
              " 3.0,\n",
              " 3.1622776601683795,\n",
              " 3.3166247903554,\n",
              " 3.4641016151377544,\n",
              " 3.605551275463989,\n",
              " 3.7416573867739413,\n",
              " 3.872983346207417,\n",
              " 4.0,\n",
              " 4.123105625617661,\n",
              " 4.242640687119285,\n",
              " 4.358898943540674,\n",
              " 4.47213595499958]"
            ]
          },
          "metadata": {
            "tags": []
          },
          "execution_count": 9
        }
      ]
    },
    {
      "cell_type": "markdown",
      "metadata": {
        "id": "lXlkQpaJ9cr8",
        "colab_type": "text"
      },
      "source": [
        "### <font color='red'> Exercise 2 </font>\n",
        "\n",
        "Write a list comprehension that contains all perfect squares less than 555.  **Hint:** Use a large range and a filter."
      ]
    },
    {
      "cell_type": "code",
      "metadata": {
        "id": "XDciVGgi9csL",
        "colab_type": "code",
        "colab": {}
      },
      "source": [
        ""
      ],
      "execution_count": null,
      "outputs": []
    },
    {
      "cell_type": "markdown",
      "metadata": {
        "id": "8AmfCbVS9csX",
        "colab_type": "text"
      },
      "source": [
        "## Splitting and processing string\n",
        "\n",
        "* Use `split` to cut a string into a list of strings\n",
        "* Use a comprehension to process the list."
      ]
    },
    {
      "cell_type": "code",
      "metadata": {
        "id": "K0y8H6bj9csY",
        "colab_type": "code",
        "colab": {},
        "outputId": "444f8b0b-40a3-4a59-cef8-dc8e82eea1a2"
      },
      "source": [
        "quote = \"Don't judge each day by the harvest you reap but by the seeds that you plant.\"\n",
        "quote.split(\" \")"
      ],
      "execution_count": null,
      "outputs": [
        {
          "output_type": "execute_result",
          "data": {
            "text/plain": [
              "[\"Don't\",\n",
              " 'judge',\n",
              " 'each',\n",
              " 'day',\n",
              " 'by',\n",
              " 'the',\n",
              " 'harvest',\n",
              " 'you',\n",
              " 'reap',\n",
              " 'but',\n",
              " 'by',\n",
              " 'the',\n",
              " 'seeds',\n",
              " 'that',\n",
              " 'you',\n",
              " 'plant.']"
            ]
          },
          "metadata": {
            "tags": []
          },
          "execution_count": 2
        }
      ]
    },
    {
      "cell_type": "code",
      "metadata": {
        "id": "g1R5f-Sk9csb",
        "colab_type": "code",
        "colab": {},
        "outputId": "2ef74d82-171a-470d-cd60-5894748ba46f"
      },
      "source": [
        "[len(word) for word in quote.split(\" \")]"
      ],
      "execution_count": null,
      "outputs": [
        {
          "output_type": "execute_result",
          "data": {
            "text/plain": [
              "[5, 5, 4, 3, 2, 3, 7, 3, 4, 3, 2, 3, 5, 4, 3, 6]"
            ]
          },
          "metadata": {
            "tags": []
          },
          "execution_count": 3
        }
      ]
    },
    {
      "cell_type": "markdown",
      "metadata": {
        "id": "XrYcFgvE9cse",
        "colab_type": "text"
      },
      "source": [
        "### <font color='red'> Exercise 3 </font>\n",
        "\n",
        "Write a list comprehension that grabs the last two letter of each word.  **Hint:** Use the slice operation!"
      ]
    },
    {
      "cell_type": "code",
      "metadata": {
        "id": "s2jyVaNN9csf",
        "colab_type": "code",
        "colab": {}
      },
      "source": [
        ""
      ],
      "execution_count": null,
      "outputs": []
    },
    {
      "cell_type": "markdown",
      "metadata": {
        "id": "anBYIBV_9csm",
        "colab_type": "text"
      },
      "source": [
        "### <font color='red'> Exercise 4 </font>\n",
        "\n",
        "Write a list comprehension that contains all words that have at least 4 characters. "
      ]
    },
    {
      "cell_type": "code",
      "metadata": {
        "id": "4GViTLLH9csm",
        "colab_type": "code",
        "colab": {}
      },
      "source": [
        ""
      ],
      "execution_count": null,
      "outputs": []
    },
    {
      "cell_type": "markdown",
      "metadata": {
        "id": "wKh-Eoh_9csq",
        "colab_type": "text"
      },
      "source": [
        "### Comprehensions work on any input sequence"
      ]
    },
    {
      "cell_type": "code",
      "metadata": {
        "id": "3f2TerUT9cst",
        "colab_type": "code",
        "colab": {},
        "outputId": "5b1d8a35-1fac-48f9-fe2f-462d5fa730b5"
      },
      "source": [
        "# On string - gives list of characters\n",
        "[ch for ch in \"Todd Iverson\"]"
      ],
      "execution_count": null,
      "outputs": [
        {
          "output_type": "execute_result",
          "data": {
            "text/plain": [
              "['T', 'o', 'd', 'd', ' ', 'I', 'v', 'e', 'r', 's', 'o', 'n']"
            ]
          },
          "metadata": {
            "tags": []
          },
          "execution_count": 4
        }
      ]
    },
    {
      "cell_type": "code",
      "metadata": {
        "id": "dNMlPPEz9csz",
        "colab_type": "code",
        "colab": {},
        "outputId": "93cb4c5e-53a8-4c78-9bf2-d4a272ae1fa1"
      },
      "source": [
        "# On tuple - converts to list\n",
        "[item for item in (1,2,3)]"
      ],
      "execution_count": null,
      "outputs": [
        {
          "output_type": "execute_result",
          "data": {
            "text/plain": [
              "[1, 2, 3]"
            ]
          },
          "metadata": {
            "tags": []
          },
          "execution_count": 5
        }
      ]
    },
    {
      "cell_type": "code",
      "metadata": {
        "id": "I_pAqN9K9cs4",
        "colab_type": "code",
        "colab": {},
        "outputId": "37012d35-91fb-45fb-d73b-0c136d727f94"
      },
      "source": [
        "# On a lazy sequence\n",
        "[tup for tup in enumerate([\"a\", \"b\", \"c\"])]"
      ],
      "execution_count": null,
      "outputs": [
        {
          "output_type": "execute_result",
          "data": {
            "text/plain": [
              "[(0, 'a'), (1, 'b'), (2, 'c')]"
            ]
          },
          "metadata": {
            "tags": []
          },
          "execution_count": 6
        }
      ]
    },
    {
      "cell_type": "markdown",
      "metadata": {
        "id": "W18h35_H9cs7",
        "colab_type": "text"
      },
      "source": [
        "## Writing Clean Code\n",
        "### Using helper functions\n",
        "\n",
        "* **Clean Code Rule 1:** Use helper functions to hide complexity"
      ]
    },
    {
      "cell_type": "code",
      "metadata": {
        "id": "YjdDLm0q9cs8",
        "colab_type": "code",
        "colab": {},
        "outputId": "18f16f2b-bd81-4ab1-fc7a-8d94fb45bcaf"
      },
      "source": [
        "# Original comprehension\n",
        "[x**(1/3) for x in range(5) if x %2 == 1]"
      ],
      "execution_count": null,
      "outputs": [
        {
          "output_type": "execute_result",
          "data": {
            "text/plain": [
              "[1.0, 1.4422495703074083]"
            ]
          },
          "metadata": {
            "tags": []
          },
          "execution_count": 2
        }
      ]
    },
    {
      "cell_type": "markdown",
      "metadata": {
        "id": "-76Vg6q09cs_",
        "colab_type": "text"
      },
      "source": [
        "## Which is easier to read?"
      ]
    },
    {
      "cell_type": "code",
      "metadata": {
        "id": "MHPpn-SC9ctB",
        "colab_type": "code",
        "colab": {},
        "outputId": "8659da54-6a5e-4965-9dec-d68cbfd5a02c"
      },
      "source": [
        "[x**(1/3) for x in range(5) if x %2 == 1]\n",
        "[cube_root(x) for x in range(5) if is_odd(x)]"
      ],
      "execution_count": null,
      "outputs": [
        {
          "output_type": "execute_result",
          "data": {
            "text/plain": [
              "[1.0, 1.4422495703074083]"
            ]
          },
          "metadata": {
            "tags": []
          },
          "execution_count": 40
        }
      ]
    },
    {
      "cell_type": "markdown",
      "metadata": {
        "id": "LL_7CPwq9ctF",
        "colab_type": "text"
      },
      "source": [
        "## Cleaning up list comprehensions\n",
        "\n",
        "1. Make a function for \n",
        "    1. the expression,\n",
        "    2. the sequence, and \n",
        "    3. the predicate\n",
        "2. Refactor by replacing code with function calls."
      ]
    },
    {
      "cell_type": "code",
      "metadata": {
        "id": "_B_LZ4nh9ctG",
        "colab_type": "code",
        "colab": {}
      },
      "source": [
        "# Helper functions\n",
        "is_odd = lambda x: x % 2 == 1\n",
        "cube_root = lambda x: x**(1/3)"
      ],
      "execution_count": null,
      "outputs": []
    },
    {
      "cell_type": "code",
      "metadata": {
        "scrolled": true,
        "id": "pgRj1m0J9ctM",
        "colab_type": "code",
        "colab": {},
        "outputId": "cc01b1fa-ab12-4136-a9c8-524f1f6b777c"
      },
      "source": [
        "# Refactored comprehension\n",
        "[cube_root(x) for x in range(5) if is_odd(x)]"
      ],
      "execution_count": null,
      "outputs": [
        {
          "output_type": "execute_result",
          "data": {
            "text/plain": [
              "[1.0, 1.4422495703074083]"
            ]
          },
          "metadata": {
            "tags": []
          },
          "execution_count": 9
        }
      ]
    },
    {
      "cell_type": "markdown",
      "metadata": {
        "id": "eD7k-GQZ9ctQ",
        "colab_type": "text"
      },
      "source": [
        "## Unpacking multiple items\n",
        "\n",
        "* Tuple unpacking assigns a name to each item\n",
        "* Can be use in a comprehension on a sequence of tuples"
      ]
    },
    {
      "cell_type": "code",
      "metadata": {
        "id": "Nieht3yu9ctQ",
        "colab_type": "code",
        "colab": {},
        "outputId": "99e7c7d8-1500-4a88-c5ba-9e292161b1ea"
      },
      "source": [
        "a, b, c = (1, 2, 3)\n",
        "b"
      ],
      "execution_count": null,
      "outputs": [
        {
          "output_type": "execute_result",
          "data": {
            "text/plain": [
              "2"
            ]
          },
          "metadata": {
            "tags": []
          },
          "execution_count": 9
        }
      ]
    },
    {
      "cell_type": "code",
      "metadata": {
        "id": "2PyinJC79ctT",
        "colab_type": "code",
        "colab": {},
        "outputId": "b7ffdf25-939c-456e-8212-1e99a56ac583"
      },
      "source": [
        "l = ['a', 'b', 'c']\n",
        "m = [1, 2, 3]\n",
        "# Without unpacking\n",
        "[item for item in zip(l, m)]"
      ],
      "execution_count": null,
      "outputs": [
        {
          "output_type": "execute_result",
          "data": {
            "text/plain": [
              "[('a', 1), ('b', 2), ('c', 3)]"
            ]
          },
          "metadata": {
            "tags": []
          },
          "execution_count": 10
        }
      ]
    },
    {
      "cell_type": "code",
      "metadata": {
        "id": "FA9IoQrA9ctW",
        "colab_type": "code",
        "colab": {},
        "outputId": "70098a92-1e3a-428f-bec2-f297b151bd64"
      },
      "source": [
        "# with unpacking\n",
        "[i + str(j) for i, j in zip(l, m)]"
      ],
      "execution_count": null,
      "outputs": [
        {
          "output_type": "execute_result",
          "data": {
            "text/plain": [
              "['a1', 'b2', 'c3']"
            ]
          },
          "metadata": {
            "tags": []
          },
          "execution_count": 11
        }
      ]
    },
    {
      "cell_type": "markdown",
      "metadata": {
        "id": "XKptXaVn9ctZ",
        "colab_type": "text"
      },
      "source": [
        "## <font color=\"red\"> Exercise 5 </font>\n",
        "\n",
        "You probably learned about the normal and standard normal distribution in your introductory statistics class.  In this activity, we will build up functions to simulate these distributions using a uniform random number generator."
      ]
    },
    {
      "cell_type": "markdown",
      "metadata": {
        "id": "xnRcplNw9cta",
        "colab_type": "text"
      },
      "source": [
        "#### Step 1 -- Transform two uniform random variates into a standard normal random variate.\n",
        "\n",
        "We will use the [Box-Mueller transformation](https://en.wikipedia.org/wiki/Box%E2%80%93Muller_transform) to simulate turn two uniform random variates (generated with `random.random`) into a single standard normal variate.  **Hint:** In particular you want to implement the formula for $Z_0$ where $U_1$ and $U_2$ are two numbers generated using `random.random`.\n",
        "\n",
        "**Task:** Write a function called `std_norm_variate` that generates a single random normal variate."
      ]
    },
    {
      "cell_type": "code",
      "metadata": {
        "id": "iqUUt5BO9ctb",
        "colab_type": "code",
        "colab": {}
      },
      "source": [
        ""
      ],
      "execution_count": null,
      "outputs": []
    },
    {
      "cell_type": "markdown",
      "metadata": {
        "id": "j0qRpX2V9cte",
        "colab_type": "text"
      },
      "source": [
        "#### Step 2 -- Create function that generates many standard normal variates.\n",
        "\n",
        "Now use a list comprehension to create a function called `std_norm_variates` that has one argument `n` and returns `n` simulated random normal trials."
      ]
    },
    {
      "cell_type": "code",
      "metadata": {
        "id": "3UnuJsKM9cte",
        "colab_type": "code",
        "colab": {}
      },
      "source": [
        ""
      ],
      "execution_count": null,
      "outputs": []
    },
    {
      "cell_type": "markdown",
      "metadata": {
        "id": "8wRkQylw9ctl",
        "colab_type": "text"
      },
      "source": [
        "#### Step 3 -- Transform a standard normal variate into a given normal variate.\n",
        "\n",
        "Suppose that `Z` is a standard normal variate and we want to simulate $X~Norm(\\mu, \\sigma)$.  It can be shown that applying the following transformation will result in the desired distribution.\n",
        "\n",
        "$$ X = \\mu + Z\\sigma $$\n",
        "\n",
        "Write a function called `norm_variate` that takes `mean` and `sd` as arguments and returns a normal variate from a distribution with this mean and standard deviation."
      ]
    },
    {
      "cell_type": "code",
      "metadata": {
        "id": "XclkV_ye9ctl",
        "colab_type": "code",
        "colab": {}
      },
      "source": [
        ""
      ],
      "execution_count": null,
      "outputs": []
    },
    {
      "cell_type": "markdown",
      "metadata": {
        "id": "m1TjL24L9ctp",
        "colab_type": "text"
      },
      "source": [
        "#### Step 4 -- Create function that generates many standard normal variates.\n",
        "\n",
        "Now use a list comprehension to create a function called `std_norm_variates` that has one argument `n` and returns `n` simulated random normal trials."
      ]
    },
    {
      "cell_type": "code",
      "metadata": {
        "id": "X79C0F4i9ctq",
        "colab_type": "code",
        "colab": {}
      },
      "source": [
        ""
      ],
      "execution_count": null,
      "outputs": []
    }
  ]
}