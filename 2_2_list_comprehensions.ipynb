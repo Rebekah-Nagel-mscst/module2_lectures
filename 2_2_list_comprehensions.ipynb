{
  "nbformat": 4,
  "nbformat_minor": 0,
  "metadata": {
    "anaconda-cloud": {},
    "kernelspec": {
      "display_name": "Python 3",
      "language": "python",
      "name": "python3"
    },
    "language_info": {
      "codemirror_mode": {
        "name": "ipython",
        "version": 3
      },
      "file_extension": ".py",
      "mimetype": "text/x-python",
      "name": "python",
      "nbconvert_exporter": "python",
      "pygments_lexer": "ipython3",
      "version": "3.7.2"
    },
    "colab": {
      "name": "2_2_list_comprehensions.ipynb",
      "provenance": [],
      "include_colab_link": true
    }
  },
  "cells": [
    {
      "cell_type": "markdown",
      "metadata": {
        "id": "view-in-github",
        "colab_type": "text"
      },
      "source": [
        "<a href=\"https://colab.research.google.com/github/Rebekah-Nagel-mscst/module2_lectures/blob/master/2_2_list_comprehensions.ipynb\" target=\"_parent\"><img src=\"https://colab.research.google.com/assets/colab-badge.svg\" alt=\"Open In Colab\"/></a>"
      ]
    },
    {
      "cell_type": "markdown",
      "metadata": {
        "id": "IrxI3_lc9crK",
        "colab_type": "text"
      },
      "source": [
        "# List Comprehensions\n",
        "\n",
        "## Objectives\n",
        "\n",
        "1. Understand the list comprehension syntax\n",
        "2. Demonstrate list processing with comprehensions\n",
        "3. Use list comprehensions in probability simulations"
      ]
    },
    {
      "cell_type": "markdown",
      "metadata": {
        "collapsed": true,
        "id": "qlo2rkWq9crM",
        "colab_type": "text"
      },
      "source": [
        "## List Comprehension\n",
        "\n",
        "* Expression for constructing list\n",
        "* Returns a new list\n",
        "* Reads like math\n",
        "    * Set builder notation"
      ]
    },
    {
      "cell_type": "code",
      "metadata": {
        "id": "XWtAO4w09crO",
        "colab_type": "code",
        "colab": {},
        "outputId": "1e175ad6-dbce-4bef-d234-88192123d4f0"
      },
      "source": [
        "mylist = [1,2,3,4,5]\n",
        "yourlist = [item ** 2 for item in mylist]\n",
        "yourlist"
      ],
      "execution_count": null,
      "outputs": [
        {
          "output_type": "execute_result",
          "data": {
            "text/plain": [
              "[1, 4, 9, 16, 25]"
            ]
          },
          "metadata": {
            "tags": []
          },
          "execution_count": 1
        }
      ]
    },
    {
      "cell_type": "markdown",
      "metadata": {
        "id": "EwX_Whfe9crT",
        "colab_type": "text"
      },
      "source": [
        "## Building a Comprehension\n",
        "\n",
        "\n",
        "    \n",
        "<img src=\"https://github.com/wsu-stat489/USCOTS2017_workshop/blob/master/img/listComprehensions.gif?raw=true\">"
      ]
    },
    {
      "cell_type": "markdown",
      "metadata": {
        "id": "OsoIab4b9crU",
        "colab_type": "text"
      },
      "source": [
        "## Building a List Comprehension\n",
        "\n",
        "1. Begin with an empty shell\n",
        "\n",
        "2. Insert the input sequence\n",
        "\n",
        "3. Give the elements a name"
      ]
    },
    {
      "cell_type": "markdown",
      "metadata": {
        "id": "CjdY4Aue9crW",
        "colab_type": "text"
      },
      "source": [
        "`L = [   for    in       ]`"
      ]
    },
    {
      "cell_type": "markdown",
      "metadata": {
        "id": "mhek_0W-9crX",
        "colab_type": "text"
      },
      "source": [
        "`L = [    for     in range(10)]`"
      ]
    },
    {
      "cell_type": "markdown",
      "metadata": {
        "id": "S30s5oT69crY",
        "colab_type": "text"
      },
      "source": [
        "`L = [    for num in range(10)]`"
      ]
    },
    {
      "cell_type": "code",
      "metadata": {
        "id": "qw8Rhao09crY",
        "colab_type": "code",
        "colab": {
          "base_uri": "https://localhost:8080/",
          "height": 34
        },
        "outputId": "c59f4be9-89a4-44de-88c9-e09053ab2ad4"
      },
      "source": [
        "L = [num + 2 for num in range(10)]\n",
        "L"
      ],
      "execution_count": null,
      "outputs": [
        {
          "output_type": "execute_result",
          "data": {
            "text/plain": [
              "[2, 3, 4, 5, 6, 7, 8, 9, 10, 11]"
            ]
          },
          "metadata": {
            "tags": []
          },
          "execution_count": 7
        }
      ]
    },
    {
      "cell_type": "markdown",
      "metadata": {
        "id": "SBBTvEbL9cre",
        "colab_type": "text"
      },
      "source": [
        "## Adding an optional filter\n",
        "\n",
        "* The if portion is optional\n",
        "* Syntax: `if boolean_cond`\n",
        "    * After input sequence\n",
        "* Only keeps value for which the condition is `True`"
      ]
    },
    {
      "cell_type": "code",
      "metadata": {
        "id": "mFZfn2Tt9crg",
        "colab_type": "code",
        "colab": {},
        "outputId": "2d18d8f1-4233-4808-c276-eb80e71b531b"
      },
      "source": [
        "L = [num + 2 for num in range(10) if num % 2 == 1]\n",
        "L"
      ],
      "execution_count": null,
      "outputs": [
        {
          "output_type": "execute_result",
          "data": {
            "text/plain": [
              "[3, 5, 7, 9, 11]"
            ]
          },
          "metadata": {
            "tags": []
          },
          "execution_count": 3
        }
      ]
    },
    {
      "cell_type": "markdown",
      "metadata": {
        "id": "DYRt4aS69crr",
        "colab_type": "text"
      },
      "source": [
        "### <font color='red'> Exercise 1 </font>\n",
        "\n",
        "Write a list comprehension that contains the squares for the numbers between 0 and 20 (inclusive).  **Hint:** Start with a `range`"
      ]
    },
    {
      "cell_type": "code",
      "metadata": {
        "id": "OxW7T2kq9cry",
        "colab_type": "code",
        "colab": {
          "base_uri": "https://localhost:8080/",
          "height": 425
        },
        "outputId": "7a25e114-5e42-439a-988d-6b1a62277154"
      },
      "source": [
        "!pip install composable\n",
        "from composable import pipeable\n",
        "import math as m\n",
        "sqrt = pipeable(m.sqrt)\n",
        "L = [sqrt**2 for sqrt in range(21)]\n",
        "L\n"
      ],
      "execution_count": null,
      "outputs": [
        {
          "output_type": "stream",
          "text": [
            "Requirement already satisfied: composable in /usr/local/lib/python3.6/dist-packages (0.1.1)\n",
            "Requirement already satisfied: toolz<0.11.0,>=0.10.0 in /usr/local/lib/python3.6/dist-packages (from composable) (0.10.0)\n",
            "Requirement already satisfied: python-forge<19.0,>=18.6 in /usr/local/lib/python3.6/dist-packages (from composable) (18.6.0)\n"
          ],
          "name": "stdout"
        },
        {
          "output_type": "execute_result",
          "data": {
            "text/plain": [
              "[0,\n",
              " 1,\n",
              " 4,\n",
              " 9,\n",
              " 16,\n",
              " 25,\n",
              " 36,\n",
              " 49,\n",
              " 64,\n",
              " 81,\n",
              " 100,\n",
              " 121,\n",
              " 144,\n",
              " 169,\n",
              " 196,\n",
              " 225,\n",
              " 256,\n",
              " 289,\n",
              " 324,\n",
              " 361,\n",
              " 400]"
            ]
          },
          "metadata": {
            "tags": []
          },
          "execution_count": 5
        }
      ]
    },
    {
      "cell_type": "markdown",
      "metadata": {
        "id": "lXlkQpaJ9cr8",
        "colab_type": "text"
      },
      "source": [
        "### <font color='red'> Exercise 2 </font>\n",
        "\n",
        "Write a list comprehension that contains all perfect squares less than 555.  **Hint:** Use a large range and a filter."
      ]
    },
    {
      "cell_type": "code",
      "metadata": {
        "id": "XDciVGgi9csL",
        "colab_type": "code",
        "colab": {
          "base_uri": "https://localhost:8080/",
          "height": 1000
        },
        "outputId": "d85549b1-4f3e-4c59-b8df-a3f516ff3880"
      },
      "source": [
        "Perfect_Squares= [x**2 for x in range(570) if x <= 555]\n",
        "Perfect_Squares"
      ],
      "execution_count": 13,
      "outputs": [
        {
          "output_type": "execute_result",
          "data": {
            "text/plain": [
              "[0,\n",
              " 1,\n",
              " 4,\n",
              " 9,\n",
              " 16,\n",
              " 25,\n",
              " 36,\n",
              " 49,\n",
              " 64,\n",
              " 81,\n",
              " 100,\n",
              " 121,\n",
              " 144,\n",
              " 169,\n",
              " 196,\n",
              " 225,\n",
              " 256,\n",
              " 289,\n",
              " 324,\n",
              " 361,\n",
              " 400,\n",
              " 441,\n",
              " 484,\n",
              " 529,\n",
              " 576,\n",
              " 625,\n",
              " 676,\n",
              " 729,\n",
              " 784,\n",
              " 841,\n",
              " 900,\n",
              " 961,\n",
              " 1024,\n",
              " 1089,\n",
              " 1156,\n",
              " 1225,\n",
              " 1296,\n",
              " 1369,\n",
              " 1444,\n",
              " 1521,\n",
              " 1600,\n",
              " 1681,\n",
              " 1764,\n",
              " 1849,\n",
              " 1936,\n",
              " 2025,\n",
              " 2116,\n",
              " 2209,\n",
              " 2304,\n",
              " 2401,\n",
              " 2500,\n",
              " 2601,\n",
              " 2704,\n",
              " 2809,\n",
              " 2916,\n",
              " 3025,\n",
              " 3136,\n",
              " 3249,\n",
              " 3364,\n",
              " 3481,\n",
              " 3600,\n",
              " 3721,\n",
              " 3844,\n",
              " 3969,\n",
              " 4096,\n",
              " 4225,\n",
              " 4356,\n",
              " 4489,\n",
              " 4624,\n",
              " 4761,\n",
              " 4900,\n",
              " 5041,\n",
              " 5184,\n",
              " 5329,\n",
              " 5476,\n",
              " 5625,\n",
              " 5776,\n",
              " 5929,\n",
              " 6084,\n",
              " 6241,\n",
              " 6400,\n",
              " 6561,\n",
              " 6724,\n",
              " 6889,\n",
              " 7056,\n",
              " 7225,\n",
              " 7396,\n",
              " 7569,\n",
              " 7744,\n",
              " 7921,\n",
              " 8100,\n",
              " 8281,\n",
              " 8464,\n",
              " 8649,\n",
              " 8836,\n",
              " 9025,\n",
              " 9216,\n",
              " 9409,\n",
              " 9604,\n",
              " 9801,\n",
              " 10000,\n",
              " 10201,\n",
              " 10404,\n",
              " 10609,\n",
              " 10816,\n",
              " 11025,\n",
              " 11236,\n",
              " 11449,\n",
              " 11664,\n",
              " 11881,\n",
              " 12100,\n",
              " 12321,\n",
              " 12544,\n",
              " 12769,\n",
              " 12996,\n",
              " 13225,\n",
              " 13456,\n",
              " 13689,\n",
              " 13924,\n",
              " 14161,\n",
              " 14400,\n",
              " 14641,\n",
              " 14884,\n",
              " 15129,\n",
              " 15376,\n",
              " 15625,\n",
              " 15876,\n",
              " 16129,\n",
              " 16384,\n",
              " 16641,\n",
              " 16900,\n",
              " 17161,\n",
              " 17424,\n",
              " 17689,\n",
              " 17956,\n",
              " 18225,\n",
              " 18496,\n",
              " 18769,\n",
              " 19044,\n",
              " 19321,\n",
              " 19600,\n",
              " 19881,\n",
              " 20164,\n",
              " 20449,\n",
              " 20736,\n",
              " 21025,\n",
              " 21316,\n",
              " 21609,\n",
              " 21904,\n",
              " 22201,\n",
              " 22500,\n",
              " 22801,\n",
              " 23104,\n",
              " 23409,\n",
              " 23716,\n",
              " 24025,\n",
              " 24336,\n",
              " 24649,\n",
              " 24964,\n",
              " 25281,\n",
              " 25600,\n",
              " 25921,\n",
              " 26244,\n",
              " 26569,\n",
              " 26896,\n",
              " 27225,\n",
              " 27556,\n",
              " 27889,\n",
              " 28224,\n",
              " 28561,\n",
              " 28900,\n",
              " 29241,\n",
              " 29584,\n",
              " 29929,\n",
              " 30276,\n",
              " 30625,\n",
              " 30976,\n",
              " 31329,\n",
              " 31684,\n",
              " 32041,\n",
              " 32400,\n",
              " 32761,\n",
              " 33124,\n",
              " 33489,\n",
              " 33856,\n",
              " 34225,\n",
              " 34596,\n",
              " 34969,\n",
              " 35344,\n",
              " 35721,\n",
              " 36100,\n",
              " 36481,\n",
              " 36864,\n",
              " 37249,\n",
              " 37636,\n",
              " 38025,\n",
              " 38416,\n",
              " 38809,\n",
              " 39204,\n",
              " 39601,\n",
              " 40000,\n",
              " 40401,\n",
              " 40804,\n",
              " 41209,\n",
              " 41616,\n",
              " 42025,\n",
              " 42436,\n",
              " 42849,\n",
              " 43264,\n",
              " 43681,\n",
              " 44100,\n",
              " 44521,\n",
              " 44944,\n",
              " 45369,\n",
              " 45796,\n",
              " 46225,\n",
              " 46656,\n",
              " 47089,\n",
              " 47524,\n",
              " 47961,\n",
              " 48400,\n",
              " 48841,\n",
              " 49284,\n",
              " 49729,\n",
              " 50176,\n",
              " 50625,\n",
              " 51076,\n",
              " 51529,\n",
              " 51984,\n",
              " 52441,\n",
              " 52900,\n",
              " 53361,\n",
              " 53824,\n",
              " 54289,\n",
              " 54756,\n",
              " 55225,\n",
              " 55696,\n",
              " 56169,\n",
              " 56644,\n",
              " 57121,\n",
              " 57600,\n",
              " 58081,\n",
              " 58564,\n",
              " 59049,\n",
              " 59536,\n",
              " 60025,\n",
              " 60516,\n",
              " 61009,\n",
              " 61504,\n",
              " 62001,\n",
              " 62500,\n",
              " 63001,\n",
              " 63504,\n",
              " 64009,\n",
              " 64516,\n",
              " 65025,\n",
              " 65536,\n",
              " 66049,\n",
              " 66564,\n",
              " 67081,\n",
              " 67600,\n",
              " 68121,\n",
              " 68644,\n",
              " 69169,\n",
              " 69696,\n",
              " 70225,\n",
              " 70756,\n",
              " 71289,\n",
              " 71824,\n",
              " 72361,\n",
              " 72900,\n",
              " 73441,\n",
              " 73984,\n",
              " 74529,\n",
              " 75076,\n",
              " 75625,\n",
              " 76176,\n",
              " 76729,\n",
              " 77284,\n",
              " 77841,\n",
              " 78400,\n",
              " 78961,\n",
              " 79524,\n",
              " 80089,\n",
              " 80656,\n",
              " 81225,\n",
              " 81796,\n",
              " 82369,\n",
              " 82944,\n",
              " 83521,\n",
              " 84100,\n",
              " 84681,\n",
              " 85264,\n",
              " 85849,\n",
              " 86436,\n",
              " 87025,\n",
              " 87616,\n",
              " 88209,\n",
              " 88804,\n",
              " 89401,\n",
              " 90000,\n",
              " 90601,\n",
              " 91204,\n",
              " 91809,\n",
              " 92416,\n",
              " 93025,\n",
              " 93636,\n",
              " 94249,\n",
              " 94864,\n",
              " 95481,\n",
              " 96100,\n",
              " 96721,\n",
              " 97344,\n",
              " 97969,\n",
              " 98596,\n",
              " 99225,\n",
              " 99856,\n",
              " 100489,\n",
              " 101124,\n",
              " 101761,\n",
              " 102400,\n",
              " 103041,\n",
              " 103684,\n",
              " 104329,\n",
              " 104976,\n",
              " 105625,\n",
              " 106276,\n",
              " 106929,\n",
              " 107584,\n",
              " 108241,\n",
              " 108900,\n",
              " 109561,\n",
              " 110224,\n",
              " 110889,\n",
              " 111556,\n",
              " 112225,\n",
              " 112896,\n",
              " 113569,\n",
              " 114244,\n",
              " 114921,\n",
              " 115600,\n",
              " 116281,\n",
              " 116964,\n",
              " 117649,\n",
              " 118336,\n",
              " 119025,\n",
              " 119716,\n",
              " 120409,\n",
              " 121104,\n",
              " 121801,\n",
              " 122500,\n",
              " 123201,\n",
              " 123904,\n",
              " 124609,\n",
              " 125316,\n",
              " 126025,\n",
              " 126736,\n",
              " 127449,\n",
              " 128164,\n",
              " 128881,\n",
              " 129600,\n",
              " 130321,\n",
              " 131044,\n",
              " 131769,\n",
              " 132496,\n",
              " 133225,\n",
              " 133956,\n",
              " 134689,\n",
              " 135424,\n",
              " 136161,\n",
              " 136900,\n",
              " 137641,\n",
              " 138384,\n",
              " 139129,\n",
              " 139876,\n",
              " 140625,\n",
              " 141376,\n",
              " 142129,\n",
              " 142884,\n",
              " 143641,\n",
              " 144400,\n",
              " 145161,\n",
              " 145924,\n",
              " 146689,\n",
              " 147456,\n",
              " 148225,\n",
              " 148996,\n",
              " 149769,\n",
              " 150544,\n",
              " 151321,\n",
              " 152100,\n",
              " 152881,\n",
              " 153664,\n",
              " 154449,\n",
              " 155236,\n",
              " 156025,\n",
              " 156816,\n",
              " 157609,\n",
              " 158404,\n",
              " 159201,\n",
              " 160000,\n",
              " 160801,\n",
              " 161604,\n",
              " 162409,\n",
              " 163216,\n",
              " 164025,\n",
              " 164836,\n",
              " 165649,\n",
              " 166464,\n",
              " 167281,\n",
              " 168100,\n",
              " 168921,\n",
              " 169744,\n",
              " 170569,\n",
              " 171396,\n",
              " 172225,\n",
              " 173056,\n",
              " 173889,\n",
              " 174724,\n",
              " 175561,\n",
              " 176400,\n",
              " 177241,\n",
              " 178084,\n",
              " 178929,\n",
              " 179776,\n",
              " 180625,\n",
              " 181476,\n",
              " 182329,\n",
              " 183184,\n",
              " 184041,\n",
              " 184900,\n",
              " 185761,\n",
              " 186624,\n",
              " 187489,\n",
              " 188356,\n",
              " 189225,\n",
              " 190096,\n",
              " 190969,\n",
              " 191844,\n",
              " 192721,\n",
              " 193600,\n",
              " 194481,\n",
              " 195364,\n",
              " 196249,\n",
              " 197136,\n",
              " 198025,\n",
              " 198916,\n",
              " 199809,\n",
              " 200704,\n",
              " 201601,\n",
              " 202500,\n",
              " 203401,\n",
              " 204304,\n",
              " 205209,\n",
              " 206116,\n",
              " 207025,\n",
              " 207936,\n",
              " 208849,\n",
              " 209764,\n",
              " 210681,\n",
              " 211600,\n",
              " 212521,\n",
              " 213444,\n",
              " 214369,\n",
              " 215296,\n",
              " 216225,\n",
              " 217156,\n",
              " 218089,\n",
              " 219024,\n",
              " 219961,\n",
              " 220900,\n",
              " 221841,\n",
              " 222784,\n",
              " 223729,\n",
              " 224676,\n",
              " 225625,\n",
              " 226576,\n",
              " 227529,\n",
              " 228484,\n",
              " 229441,\n",
              " 230400,\n",
              " 231361,\n",
              " 232324,\n",
              " 233289,\n",
              " 234256,\n",
              " 235225,\n",
              " 236196,\n",
              " 237169,\n",
              " 238144,\n",
              " 239121,\n",
              " 240100,\n",
              " 241081,\n",
              " 242064,\n",
              " 243049,\n",
              " 244036,\n",
              " 245025,\n",
              " 246016,\n",
              " 247009,\n",
              " 248004,\n",
              " 249001,\n",
              " 250000,\n",
              " 251001,\n",
              " 252004,\n",
              " 253009,\n",
              " 254016,\n",
              " 255025,\n",
              " 256036,\n",
              " 257049,\n",
              " 258064,\n",
              " 259081,\n",
              " 260100,\n",
              " 261121,\n",
              " 262144,\n",
              " 263169,\n",
              " 264196,\n",
              " 265225,\n",
              " 266256,\n",
              " 267289,\n",
              " 268324,\n",
              " 269361,\n",
              " 270400,\n",
              " 271441,\n",
              " 272484,\n",
              " 273529,\n",
              " 274576,\n",
              " 275625,\n",
              " 276676,\n",
              " 277729,\n",
              " 278784,\n",
              " 279841,\n",
              " 280900,\n",
              " 281961,\n",
              " 283024,\n",
              " 284089,\n",
              " 285156,\n",
              " 286225,\n",
              " 287296,\n",
              " 288369,\n",
              " 289444,\n",
              " 290521,\n",
              " 291600,\n",
              " 292681,\n",
              " 293764,\n",
              " 294849,\n",
              " 295936,\n",
              " 297025,\n",
              " 298116,\n",
              " 299209,\n",
              " 300304,\n",
              " 301401,\n",
              " 302500,\n",
              " 303601,\n",
              " 304704,\n",
              " 305809,\n",
              " 306916,\n",
              " 308025]"
            ]
          },
          "metadata": {
            "tags": []
          },
          "execution_count": 13
        }
      ]
    },
    {
      "cell_type": "markdown",
      "metadata": {
        "id": "8AmfCbVS9csX",
        "colab_type": "text"
      },
      "source": [
        "## Splitting and processing string\n",
        "\n",
        "* Use `split` to cut a string into a list of strings\n",
        "* Use a comprehension to process the list."
      ]
    },
    {
      "cell_type": "code",
      "metadata": {
        "id": "K0y8H6bj9csY",
        "colab_type": "code",
        "colab": {},
        "outputId": "444f8b0b-40a3-4a59-cef8-dc8e82eea1a2"
      },
      "source": [
        "quote = \"Don't judge each day by the harvest you reap but by the seeds that you plant.\"\n",
        "quote.split(\" \")"
      ],
      "execution_count": null,
      "outputs": [
        {
          "output_type": "execute_result",
          "data": {
            "text/plain": [
              "[\"Don't\",\n",
              " 'judge',\n",
              " 'each',\n",
              " 'day',\n",
              " 'by',\n",
              " 'the',\n",
              " 'harvest',\n",
              " 'you',\n",
              " 'reap',\n",
              " 'but',\n",
              " 'by',\n",
              " 'the',\n",
              " 'seeds',\n",
              " 'that',\n",
              " 'you',\n",
              " 'plant.']"
            ]
          },
          "metadata": {
            "tags": []
          },
          "execution_count": 2
        }
      ]
    },
    {
      "cell_type": "code",
      "metadata": {
        "id": "g1R5f-Sk9csb",
        "colab_type": "code",
        "colab": {},
        "outputId": "2ef74d82-171a-470d-cd60-5894748ba46f"
      },
      "source": [
        "[len(word) for word in quote.split(\" \")]"
      ],
      "execution_count": null,
      "outputs": [
        {
          "output_type": "execute_result",
          "data": {
            "text/plain": [
              "[5, 5, 4, 3, 2, 3, 7, 3, 4, 3, 2, 3, 5, 4, 3, 6]"
            ]
          },
          "metadata": {
            "tags": []
          },
          "execution_count": 3
        }
      ]
    },
    {
      "cell_type": "markdown",
      "metadata": {
        "id": "XrYcFgvE9cse",
        "colab_type": "text"
      },
      "source": [
        "### <font color='red'> Exercise 3 </font>\n",
        "\n",
        "Write a list comprehension that grabs the last two letter of each word.  **Hint:** Use the slice operation!"
      ]
    },
    {
      "cell_type": "code",
      "metadata": {
        "id": "s2jyVaNN9csf",
        "colab_type": "code",
        "colab": {
          "base_uri": "https://localhost:8080/",
          "height": 34
        },
        "outputId": "509872d4-f97d-423c-a6e2-0bc11aa20d1e"
      },
      "source": [
        "S = \"smile on every aisle\"\n",
        "Last_two = [word[-2:] for word in S.split(\" \")]\n",
        "Last_two"
      ],
      "execution_count": 26,
      "outputs": [
        {
          "output_type": "execute_result",
          "data": {
            "text/plain": [
              "['le', 'on', 'ry', 'le']"
            ]
          },
          "metadata": {
            "tags": []
          },
          "execution_count": 26
        }
      ]
    },
    {
      "cell_type": "markdown",
      "metadata": {
        "id": "anBYIBV_9csm",
        "colab_type": "text"
      },
      "source": [
        "### <font color='red'> Exercise 4 </font>\n",
        "\n",
        "Write a list comprehension that contains all words that have at least 4 characters. "
      ]
    },
    {
      "cell_type": "code",
      "metadata": {
        "id": "4GViTLLH9csm",
        "colab_type": "code",
        "colab": {
          "base_uri": "https://localhost:8080/",
          "height": 34
        },
        "outputId": "11e4ff8b-0a0c-4bc7-ed62-5733a685db3a"
      },
      "source": [
        "F= \"The quick brown fox jumps over the lazy dog\"\n",
        "at_least_four_characters = [word for word in F.split(\" \") if len(word) > 4]\n",
        "at_least_four_characters"
      ],
      "execution_count": 72,
      "outputs": [
        {
          "output_type": "execute_result",
          "data": {
            "text/plain": [
              "['quick', 'brown', 'jumps']"
            ]
          },
          "metadata": {
            "tags": []
          },
          "execution_count": 72
        }
      ]
    },
    {
      "cell_type": "markdown",
      "metadata": {
        "id": "wKh-Eoh_9csq",
        "colab_type": "text"
      },
      "source": [
        "### Comprehensions work on any input sequence"
      ]
    },
    {
      "cell_type": "code",
      "metadata": {
        "id": "3f2TerUT9cst",
        "colab_type": "code",
        "colab": {},
        "outputId": "5b1d8a35-1fac-48f9-fe2f-462d5fa730b5"
      },
      "source": [
        "# On string - gives list of characters\n",
        "[ch for ch in \"Todd Iverson\"]"
      ],
      "execution_count": null,
      "outputs": [
        {
          "output_type": "execute_result",
          "data": {
            "text/plain": [
              "['T', 'o', 'd', 'd', ' ', 'I', 'v', 'e', 'r', 's', 'o', 'n']"
            ]
          },
          "metadata": {
            "tags": []
          },
          "execution_count": 4
        }
      ]
    },
    {
      "cell_type": "code",
      "metadata": {
        "id": "dNMlPPEz9csz",
        "colab_type": "code",
        "colab": {},
        "outputId": "93cb4c5e-53a8-4c78-9bf2-d4a272ae1fa1"
      },
      "source": [
        "# On tuple - converts to list\n",
        "[item for item in (1,2,3)]"
      ],
      "execution_count": null,
      "outputs": [
        {
          "output_type": "execute_result",
          "data": {
            "text/plain": [
              "[1, 2, 3]"
            ]
          },
          "metadata": {
            "tags": []
          },
          "execution_count": 5
        }
      ]
    },
    {
      "cell_type": "code",
      "metadata": {
        "id": "I_pAqN9K9cs4",
        "colab_type": "code",
        "colab": {},
        "outputId": "37012d35-91fb-45fb-d73b-0c136d727f94"
      },
      "source": [
        "# On a lazy sequence\n",
        "[tup for tup in enumerate([\"a\", \"b\", \"c\"])]"
      ],
      "execution_count": null,
      "outputs": [
        {
          "output_type": "execute_result",
          "data": {
            "text/plain": [
              "[(0, 'a'), (1, 'b'), (2, 'c')]"
            ]
          },
          "metadata": {
            "tags": []
          },
          "execution_count": 6
        }
      ]
    },
    {
      "cell_type": "markdown",
      "metadata": {
        "id": "W18h35_H9cs7",
        "colab_type": "text"
      },
      "source": [
        "## Writing Clean Code\n",
        "### Using helper functions\n",
        "\n",
        "* **Clean Code Rule 1:** Use helper functions to hide complexity"
      ]
    },
    {
      "cell_type": "code",
      "metadata": {
        "id": "YjdDLm0q9cs8",
        "colab_type": "code",
        "colab": {},
        "outputId": "18f16f2b-bd81-4ab1-fc7a-8d94fb45bcaf"
      },
      "source": [
        "# Original comprehension\n",
        "[x**(1/3) for x in range(5) if x %2 == 1]"
      ],
      "execution_count": null,
      "outputs": [
        {
          "output_type": "execute_result",
          "data": {
            "text/plain": [
              "[1.0, 1.4422495703074083]"
            ]
          },
          "metadata": {
            "tags": []
          },
          "execution_count": 2
        }
      ]
    },
    {
      "cell_type": "markdown",
      "metadata": {
        "id": "-76Vg6q09cs_",
        "colab_type": "text"
      },
      "source": [
        "## Which is easier to read?"
      ]
    },
    {
      "cell_type": "code",
      "metadata": {
        "id": "MHPpn-SC9ctB",
        "colab_type": "code",
        "colab": {},
        "outputId": "8659da54-6a5e-4965-9dec-d68cbfd5a02c"
      },
      "source": [
        "[x**(1/3) for x in range(5) if x %2 == 1]\n",
        "[cube_root(x) for x in range(5) if is_odd(x)]"
      ],
      "execution_count": null,
      "outputs": [
        {
          "output_type": "execute_result",
          "data": {
            "text/plain": [
              "[1.0, 1.4422495703074083]"
            ]
          },
          "metadata": {
            "tags": []
          },
          "execution_count": 40
        }
      ]
    },
    {
      "cell_type": "markdown",
      "metadata": {
        "id": "LL_7CPwq9ctF",
        "colab_type": "text"
      },
      "source": [
        "## Cleaning up list comprehensions\n",
        "\n",
        "1. Make a function for \n",
        "    1. the expression,\n",
        "    2. the sequence, and \n",
        "    3. the predicate\n",
        "2. Refactor by replacing code with function calls."
      ]
    },
    {
      "cell_type": "code",
      "metadata": {
        "id": "_B_LZ4nh9ctG",
        "colab_type": "code",
        "colab": {}
      },
      "source": [
        "# Helper functions\n",
        "is_odd = lambda x: x % 2 == 1\n",
        "cube_root = lambda x: x**(1/3)"
      ],
      "execution_count": null,
      "outputs": []
    },
    {
      "cell_type": "code",
      "metadata": {
        "scrolled": true,
        "id": "pgRj1m0J9ctM",
        "colab_type": "code",
        "colab": {},
        "outputId": "cc01b1fa-ab12-4136-a9c8-524f1f6b777c"
      },
      "source": [
        "# Refactored comprehension\n",
        "[cube_root(x) for x in range(5) if is_odd(x)]"
      ],
      "execution_count": null,
      "outputs": [
        {
          "output_type": "execute_result",
          "data": {
            "text/plain": [
              "[1.0, 1.4422495703074083]"
            ]
          },
          "metadata": {
            "tags": []
          },
          "execution_count": 9
        }
      ]
    },
    {
      "cell_type": "markdown",
      "metadata": {
        "id": "eD7k-GQZ9ctQ",
        "colab_type": "text"
      },
      "source": [
        "## Unpacking multiple items\n",
        "\n",
        "* Tuple unpacking assigns a name to each item\n",
        "* Can be use in a comprehension on a sequence of tuples"
      ]
    },
    {
      "cell_type": "code",
      "metadata": {
        "id": "Nieht3yu9ctQ",
        "colab_type": "code",
        "colab": {},
        "outputId": "99e7c7d8-1500-4a88-c5ba-9e292161b1ea"
      },
      "source": [
        "a, b, c = (1, 2, 3)\n",
        "b"
      ],
      "execution_count": null,
      "outputs": [
        {
          "output_type": "execute_result",
          "data": {
            "text/plain": [
              "2"
            ]
          },
          "metadata": {
            "tags": []
          },
          "execution_count": 9
        }
      ]
    },
    {
      "cell_type": "code",
      "metadata": {
        "id": "2PyinJC79ctT",
        "colab_type": "code",
        "colab": {},
        "outputId": "b7ffdf25-939c-456e-8212-1e99a56ac583"
      },
      "source": [
        "l = ['a', 'b', 'c']\n",
        "m = [1, 2, 3]\n",
        "# Without unpacking\n",
        "[item for item in zip(l, m)]"
      ],
      "execution_count": null,
      "outputs": [
        {
          "output_type": "execute_result",
          "data": {
            "text/plain": [
              "[('a', 1), ('b', 2), ('c', 3)]"
            ]
          },
          "metadata": {
            "tags": []
          },
          "execution_count": 10
        }
      ]
    },
    {
      "cell_type": "code",
      "metadata": {
        "id": "FA9IoQrA9ctW",
        "colab_type": "code",
        "colab": {},
        "outputId": "70098a92-1e3a-428f-bec2-f297b151bd64"
      },
      "source": [
        "# with unpacking\n",
        "[i + str(j) for i, j in zip(l, m)]"
      ],
      "execution_count": null,
      "outputs": [
        {
          "output_type": "execute_result",
          "data": {
            "text/plain": [
              "['a1', 'b2', 'c3']"
            ]
          },
          "metadata": {
            "tags": []
          },
          "execution_count": 11
        }
      ]
    },
    {
      "cell_type": "markdown",
      "metadata": {
        "id": "XKptXaVn9ctZ",
        "colab_type": "text"
      },
      "source": [
        "## <font color=\"red\"> Exercise 5 </font>\n",
        "\n",
        "You probably learned about the normal and standard normal distribution in your introductory statistics class.  In this activity, we will build up functions to simulate these distributions using a uniform random number generator."
      ]
    },
    {
      "cell_type": "markdown",
      "metadata": {
        "id": "xnRcplNw9cta",
        "colab_type": "text"
      },
      "source": [
        "#### Step 1 -- Transform two uniform random variates into a standard normal random variate.\n",
        "\n",
        "We will use the [Box-Mueller transformation](https://en.wikipedia.org/wiki/Box%E2%80%93Muller_transform) to simulate turn two uniform random variates (generated with `random.random`) into a single standard normal variate.  **Hint:** In particular you want to implement the formula for $Z_0$ where $U_1$ and $U_2$ are two numbers generated using `random.random`.\n",
        "\n",
        "**Task:** Write a function called `std_norm_variate` that generates a single random normal variate."
      ]
    },
    {
      "cell_type": "code",
      "metadata": {
        "id": "iqUUt5BO9ctb",
        "colab_type": "code",
        "colab": {
          "base_uri": "https://localhost:8080/",
          "height": 68
        },
        "outputId": "5a7aeed9-f426-4389-b751-e7aeb92509b0"
      },
      "source": [
        "!pip install composable\n",
        "from composable import pipeable\n",
        "from math import pi\n",
        "import math as m\n",
        "sqrt = pipeable(m.sqrt)\n",
        "log = pipeable(m.log)\n",
        "cos = pipeable(m.cos)\n",
        "from random import random\n"
      ],
      "execution_count": 54,
      "outputs": [
        {
          "output_type": "stream",
          "text": [
            "Requirement already satisfied: composable in /usr/local/lib/python3.6/dist-packages (0.1.2)\n",
            "Requirement already satisfied: toolz<0.11.0,>=0.10.0 in /usr/local/lib/python3.6/dist-packages (from composable) (0.10.0)\n",
            "Requirement already satisfied: python-forge<19.0,>=18.6 in /usr/local/lib/python3.6/dist-packages (from composable) (18.6.0)\n"
          ],
          "name": "stdout"
        }
      ]
    },
    {
      "cell_type": "code",
      "metadata": {
        "id": "HQcgndXNR0d1",
        "colab_type": "code",
        "colab": {
          "base_uri": "https://localhost:8080/",
          "height": 129
        },
        "outputId": "467971fc-543a-4b81-b212-dda808c28d6d"
      },
      "source": [
        "std_norm_variate = lambda a: sqrt(-2.0 * log(random.random()) * cos((2.0 * pi)* random.random())\n",
        "std_norm_variate"
      ],
      "execution_count": 58,
      "outputs": [
        {
          "output_type": "error",
          "ename": "SyntaxError",
          "evalue": "ignored",
          "traceback": [
            "\u001b[0;36m  File \u001b[0;32m\"<ipython-input-58-53f509b5a9be>\"\u001b[0;36m, line \u001b[0;32m2\u001b[0m\n\u001b[0;31m    std_norm_variate\u001b[0m\n\u001b[0m                   ^\u001b[0m\n\u001b[0;31mSyntaxError\u001b[0m\u001b[0;31m:\u001b[0m invalid syntax\n"
          ]
        }
      ]
    },
    {
      "cell_type": "markdown",
      "metadata": {
        "id": "j0qRpX2V9cte",
        "colab_type": "text"
      },
      "source": [
        "#### Step 2 -- Create function that generates many standard normal variates.\n",
        "\n",
        "Now use a list comprehension to create a function called `std_norm_variates` that has one argument `n` and returns `n` simulated random normal trials."
      ]
    },
    {
      "cell_type": "code",
      "metadata": {
        "id": "3UnuJsKM9cte",
        "colab_type": "code",
        "colab": {
          "base_uri": "https://localhost:8080/",
          "height": 129
        },
        "outputId": "1554dd33-5495-4330-aa02-3cc7838bd429"
      },
      "source": [
        "std_norm_variates = lambda n: [sqrt(-2.0 * log(random()) * cos((2.0 * pi)* random())]\n",
        "std_norm_variates ()"
      ],
      "execution_count": 68,
      "outputs": [
        {
          "output_type": "error",
          "ename": "SyntaxError",
          "evalue": "ignored",
          "traceback": [
            "\u001b[0;36m  File \u001b[0;32m\"<ipython-input-68-ad7922d58f13>\"\u001b[0;36m, line \u001b[0;32m1\u001b[0m\n\u001b[0;31m    std_norm_variates = lambda n: [sqrt(-2.0 * log(random()) * cos((2.0 * pi)* random())]\u001b[0m\n\u001b[0m                                                                                        ^\u001b[0m\n\u001b[0;31mSyntaxError\u001b[0m\u001b[0;31m:\u001b[0m invalid syntax\n"
          ]
        }
      ]
    },
    {
      "cell_type": "markdown",
      "metadata": {
        "id": "8wRkQylw9ctl",
        "colab_type": "text"
      },
      "source": [
        "#### Step 3 -- Transform a standard normal variate into a given normal variate.\n",
        "\n",
        "Suppose that `Z` is a standard normal variate and we want to simulate $X~Norm(\\mu, \\sigma)$.  It can be shown that applying the following transformation will result in the desired distribution.\n",
        "\n",
        "$$ X = \\mu + Z\\sigma $$\n",
        "\n",
        "Write a function called `norm_variate` that takes `mean` and `sd` as arguments and returns a normal variate from a distribution with this mean and standard deviation."
      ]
    },
    {
      "cell_type": "code",
      "metadata": {
        "id": "XclkV_ye9ctl",
        "colab_type": "code",
        "colab": {
          "base_uri": "https://localhost:8080/",
          "height": 34
        },
        "outputId": "f4b46c38-74d1-4c1a-e520-f550721b234c"
      },
      "source": [
        "norm_variate = lambda mean, sd: mean + (random()*sd)\n",
        "norm_variate(2,3)"
      ],
      "execution_count": 66,
      "outputs": [
        {
          "output_type": "execute_result",
          "data": {
            "text/plain": [
              "3.650045931068339"
            ]
          },
          "metadata": {
            "tags": []
          },
          "execution_count": 66
        }
      ]
    },
    {
      "cell_type": "markdown",
      "metadata": {
        "id": "m1TjL24L9ctp",
        "colab_type": "text"
      },
      "source": [
        "#### Step 4 -- Create function that generates many standard normal variates.\n",
        "\n",
        "Now use a list comprehension to create a function called `std_norm_variates` that has one argument `n` and returns `n` simulated random normal trials."
      ]
    },
    {
      "cell_type": "code",
      "metadata": {
        "id": "X79C0F4i9ctq",
        "colab_type": "code",
        "colab": {}
      },
      "source": [
        "std_norm_variates = lambda "
      ],
      "execution_count": null,
      "outputs": []
    }
  ]
}